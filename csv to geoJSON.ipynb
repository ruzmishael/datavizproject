{
 "cells": [
  {
   "cell_type": "code",
   "execution_count": 8,
   "id": "5692ed0e",
   "metadata": {},
   "outputs": [
    {
     "name": "stdout",
     "output_type": "stream",
     "text": [
      "GeoJSON file 'univ_line1.geojson' created successfully.\n"
     ]
    }
   ],
   "source": [
    "import pandas as pd\n",
    "import geopandas as gpd\n",
    "from shapely.geometry import Point\n",
    "\n",
    "csv_file_path = 'univ_line1.csv'\n",
    "\n",
    "df = pd.read_csv(csv_file_path, usecols=['line', 'university', 'latitude', 'longitude', 'address'])\n",
    "\n",
    "\n",
    "geometry = [Point(xy) for xy in zip(df['longitude'], df['latitude'])]\n",
    "gdf = gpd.GeoDataFrame(df, geometry=geometry)\n",
    "\n",
    "output_geojson = 'univ_line1.geojson'\n",
    "gdf.to_file(output_geojson, driver='GeoJSON')\n",
    "\n",
    "print(f\"GeoJSON file '{output_geojson}' created successfully.\")\n",
    "\n",
    "\n"
   ]
  },
  {
   "cell_type": "code",
   "execution_count": 9,
   "id": "5bd221d5",
   "metadata": {},
   "outputs": [
    {
     "name": "stdout",
     "output_type": "stream",
     "text": [
      "GeoJSON file 'univ_line2.geojson' created successfully.\n"
     ]
    }
   ],
   "source": [
    "import pandas as pd\n",
    "import geopandas as gpd\n",
    "from shapely.geometry import Point\n",
    "\n",
    "csv_file_path = 'univ_line2.csv'\n",
    "\n",
    "df = pd.read_csv(csv_file_path, usecols=['line', 'university', 'latitude', 'longitude', 'address'])\n",
    "\n",
    "\n",
    "geometry = [Point(xy) for xy in zip(df['longitude'], df['latitude'])]\n",
    "gdf = gpd.GeoDataFrame(df, geometry=geometry)\n",
    "\n",
    "output_geojson = 'univ_line2.geojson'\n",
    "gdf.to_file(output_geojson, driver='GeoJSON')\n",
    "\n",
    "print(f\"GeoJSON file '{output_geojson}' created successfully.\")\n"
   ]
  },
  {
   "cell_type": "code",
   "execution_count": 10,
   "id": "247e8ff8",
   "metadata": {},
   "outputs": [
    {
     "name": "stdout",
     "output_type": "stream",
     "text": [
      "GeoJSON file 'univ_line3.geojson' created successfully.\n"
     ]
    }
   ],
   "source": [
    "import pandas as pd\n",
    "import geopandas as gpd\n",
    "from shapely.geometry import Point\n",
    "\n",
    "csv_file_path = 'univ_line3.csv'\n",
    "\n",
    "df = pd.read_csv(csv_file_path, usecols=['line', 'university', 'latitude', 'longitude', 'address'])\n",
    "\n",
    "\n",
    "geometry = [Point(xy) for xy in zip(df['longitude'], df['latitude'])]\n",
    "gdf = gpd.GeoDataFrame(df, geometry=geometry)\n",
    "\n",
    "output_geojson = 'univ_line3.geojson'\n",
    "gdf.to_file(output_geojson, driver='GeoJSON')\n",
    "\n",
    "print(f\"GeoJSON file '{output_geojson}' created successfully.\")\n",
    "\n",
    "\n"
   ]
  },
  {
   "cell_type": "code",
   "execution_count": 15,
   "id": "08749f43",
   "metadata": {},
   "outputs": [
    {
     "name": "stdout",
     "output_type": "stream",
     "text": [
      "GeoJSON file 'hospi_line3.geojson' created successfully.\n"
     ]
    }
   ],
   "source": [
    "import pandas as pd\n",
    "import geopandas as gpd\n",
    "from shapely.geometry import Point\n",
    "\n",
    "csv_file_path = 'hospi_line3.csv'\n",
    "\n",
    "df = pd.read_csv(csv_file_path, usecols=['line', 'hospital', 'latitude', 'longitude', 'address', 'designation'])\n",
    "\n",
    "\n",
    "geometry = [Point(xy) for xy in zip(df['longitude'], df['latitude'])]\n",
    "gdf = gpd.GeoDataFrame(df, geometry=geometry)\n",
    "\n",
    "output_geojson = 'hospi_line3.geojson'\n",
    "gdf.to_file(output_geojson, driver='GeoJSON')\n",
    "\n",
    "print(f\"GeoJSON file '{output_geojson}' created successfully.\")\n",
    "\n",
    "\n"
   ]
  },
  {
   "cell_type": "code",
   "execution_count": null,
   "id": "0fd937b0",
   "metadata": {},
   "outputs": [],
   "source": []
  }
 ],
 "metadata": {
  "kernelspec": {
   "display_name": "Python 3 (ipykernel)",
   "language": "python",
   "name": "python3"
  },
  "language_info": {
   "codemirror_mode": {
    "name": "ipython",
    "version": 3
   },
   "file_extension": ".py",
   "mimetype": "text/x-python",
   "name": "python",
   "nbconvert_exporter": "python",
   "pygments_lexer": "ipython3",
   "version": "3.11.4"
  }
 },
 "nbformat": 4,
 "nbformat_minor": 5
}
